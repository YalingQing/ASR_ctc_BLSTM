{
 "cells": [
  {
   "cell_type": "code",
   "execution_count": null,
   "metadata": {
    "colab": {
     "base_uri": "https://localhost:8080/",
     "height": 405
    },
    "executionInfo": {
     "elapsed": 36954,
     "status": "ok",
     "timestamp": 1602241018160,
     "user": {
      "displayName": "Yaling Qing",
      "photoUrl": "https://lh3.googleusercontent.com/a-/AOh14GhM2IHXKbhNOCUoSDT0zKOKQnf9n3yEB3QiZ8qP=s64",
      "userId": "18024128701160053308"
     },
     "user_tz": -480
    },
    "id": "nBphMaqitXB3",
    "outputId": "36670a4a-16ea-4372-bd4a-f4da655a51eb"
   },
   "outputs": [],
   "source": [
    "!pip install jiwer\n",
    "!pip install python_speech_features"
   ]
  },
  {
   "cell_type": "code",
   "execution_count": null,
   "metadata": {
    "executionInfo": {
     "elapsed": 2781,
     "status": "ok",
     "timestamp": 1602241327999,
     "user": {
      "displayName": "Yaling Qing",
      "photoUrl": "https://lh3.googleusercontent.com/a-/AOh14GhM2IHXKbhNOCUoSDT0zKOKQnf9n3yEB3QiZ8qP=s64",
      "userId": "18024128701160053308"
     },
     "user_tz": -480
    },
    "id": "pDAiRQ26v-WW"
   },
   "outputs": [],
   "source": [
    "import string, math, jiwer\n",
    "from Lfbank_model import brnn_ctc_lfbank\n",
    "import numpy as np\n",
    "import tensorflow as tf\n",
    "from tensorflow import keras\n",
    "from keras.models import Model\n",
    "import tensorflow.keras.backend as K\n",
    "from tensorflow.keras.callbacks import ModelCheckpoint,EarlyStopping\n",
    "from Logfbank_generator import DataGenerator, pad_wav, pad_text, get_wavs_path, get_text_path, dictionary"
   ]
  },
  {
   "cell_type": "code",
   "execution_count": null,
   "metadata": {
    "executionInfo": {
     "elapsed": 1926,
     "status": "ok",
     "timestamp": 1602241311830,
     "user": {
      "displayName": "Yaling Qing",
      "photoUrl": "https://lh3.googleusercontent.com/a-/AOh14GhM2IHXKbhNOCUoSDT0zKOKQnf9n3yEB3QiZ8qP=s64",
      "userId": "18024128701160053308"
     },
     "user_tz": -480
    },
    "id": "BgXV06PKxVSq"
   },
   "outputs": [],
   "source": [
    "tf.test.gpu_device_name()\n",
    "from tensorflow.python.client import device_lib\n",
    "import os\n",
    "#print(device_lib.list_local_devices())\n",
    "os.environ[\"CUDA_VISIBLE_DEVICES\"] = \"0\"\n",
    "config = tf.compat.v1.ConfigProto() \n",
    "config.gpu_options.allow_growth=True"
   ]
  },
  {
   "cell_type": "code",
   "execution_count": null,
   "metadata": {
    "executionInfo": {
     "elapsed": 834,
     "status": "ok",
     "timestamp": 1602241330536,
     "user": {
      "displayName": "Yaling Qing",
      "photoUrl": "https://lh3.googleusercontent.com/a-/AOh14GhM2IHXKbhNOCUoSDT0zKOKQnf9n3yEB3QiZ8qP=s64",
      "userId": "18024128701160053308"
     },
     "user_tz": -480
    },
    "id": "-LK8-CU2veoA"
   },
   "outputs": [],
   "source": [
    "# variable field\n",
    "train_path = \"/ASR/data/TRAIN\"\n",
    "test_path = \"/ASR/data/TEST\"\n",
    "weight_save_path = \"/content/drive/My Drive/2020 Fall/NLP/Lfbank/lfbank_Adam_weights2.h5\"\n",
    "\n",
    "nfilt = 80\n",
    "nfeature = 80\n",
    "nclass = 27\n",
    "epoch = 200\n",
    "nbatch = 32\n",
    "lr_rate = 10**(-4)\n",
    "momentum = 0.9"
   ]
  },
  {
   "cell_type": "code",
   "execution_count": null,
   "metadata": {
    "executionInfo": {
     "elapsed": 58938,
     "status": "ok",
     "timestamp": 1602241389783,
     "user": {
      "displayName": "Yaling Qing",
      "photoUrl": "https://lh3.googleusercontent.com/a-/AOh14GhM2IHXKbhNOCUoSDT0zKOKQnf9n3yEB3QiZ8qP=s64",
      "userId": "18024128701160053308"
     },
     "user_tz": -480
    },
    "id": "vj4NsaHCveoN"
   },
   "outputs": [],
   "source": [
    "# get train data\n",
    "wavs_path = get_wavs_path(train_path)\n",
    "txts_path = get_text_path(wavs_path)\n",
    "\n",
    "audios, input_length = pad_wav(wavs_path, nfilt)\n",
    "texts, label_length = pad_text(txts_path)"
   ]
  },
  {
   "cell_type": "code",
   "execution_count": null,
   "metadata": {
    "executionInfo": {
     "elapsed": 81421,
     "status": "ok",
     "timestamp": 1602241412738,
     "user": {
      "displayName": "Yaling Qing",
      "photoUrl": "https://lh3.googleusercontent.com/a-/AOh14GhM2IHXKbhNOCUoSDT0zKOKQnf9n3yEB3QiZ8qP=s64",
      "userId": "18024128701160053308"
     },
     "user_tz": -480
    },
    "id": "TAiDuP1Yveof"
   },
   "outputs": [],
   "source": [
    "# get test data\n",
    "wavs_path_val = get_wavs_path(test_path)\n",
    "txts_path_val = get_text_path(wavs_path_val)\n",
    "\n",
    "audios_val, input_length_val = pad_wav(wavs_path_val, nfilt)\n",
    "texts_val, label_length_val = pad_text(txts_path_val)"
   ]
  },
  {
   "cell_type": "code",
   "execution_count": null,
   "metadata": {
    "executionInfo": {
     "elapsed": 80106,
     "status": "ok",
     "timestamp": 1602241412739,
     "user": {
      "displayName": "Yaling Qing",
      "photoUrl": "https://lh3.googleusercontent.com/a-/AOh14GhM2IHXKbhNOCUoSDT0zKOKQnf9n3yEB3QiZ8qP=s64",
      "userId": "18024128701160053308"
     },
     "user_tz": -480
    },
    "id": "4Eyt_aeyveop"
   },
   "outputs": [],
   "source": [
    "# Generators\n",
    "training_generator = DataGenerator(audios, texts, input_length, label_length, nbatch, nfilt)\n",
    "validation_generator = DataGenerator(audios_val, texts_val, input_length_val, label_length_val, nbatch, nfilt)"
   ]
  },
  {
   "cell_type": "code",
   "execution_count": null,
   "metadata": {
    "executionInfo": {
     "elapsed": 85941,
     "status": "ok",
     "timestamp": 1602241419075,
     "user": {
      "displayName": "Yaling Qing",
      "photoUrl": "https://lh3.googleusercontent.com/a-/AOh14GhM2IHXKbhNOCUoSDT0zKOKQnf9n3yEB3QiZ8qP=s64",
      "userId": "18024128701160053308"
     },
     "user_tz": -480
    },
    "id": "wSuAVG3yveo3"
   },
   "outputs": [],
   "source": [
    "# model constructor\n",
    "train_model = brnn_ctc_lfbank(nfeature, nclass, lr_rate, momentum, True, False)\n",
    "\n",
    "callbacks = [\n",
    "    EarlyStopping(monitor=\"val_loss\", patience=7, mode=\"min\", restore_best_weights = True),\n",
    "    ModelCheckpoint(filepath = weight_save_path,\n",
    "                monitor = 'val_loss', mode = 'min', save_best_only=True, save_weights_only=True),\n",
    "]"
   ]
  },
  {
   "cell_type": "code",
   "execution_count": null,
   "metadata": {
    "colab": {
     "base_uri": "https://localhost:8080/",
     "height": 710
    },
    "executionInfo": {
     "elapsed": 664805,
     "status": "error",
     "timestamp": 1602242562614,
     "user": {
      "displayName": "Yaling Qing",
      "photoUrl": "https://lh3.googleusercontent.com/a-/AOh14GhM2IHXKbhNOCUoSDT0zKOKQnf9n3yEB3QiZ8qP=s64",
      "userId": "18024128701160053308"
     },
     "user_tz": -480
    },
    "id": "jMyclTOPvepG",
    "outputId": "0f8eb607-5486-43b4-c551-05245b15a2d8"
   },
   "outputs": [],
   "source": [
    "# model train\n",
    "history = train_model.ctc_model.fit_generator(generator=training_generator,\n",
    "                    validation_data=validation_generator,\n",
    "                    use_multiprocessing=True,\n",
    "                    workers = 1,\n",
    "                    epochs = epoch)"
   ]
  },
  {
   "cell_type": "code",
   "execution_count": null,
   "metadata": {
    "colab": {
     "base_uri": "https://localhost:8080/",
     "height": 228
    },
    "executionInfo": {
     "elapsed": 11457500,
     "status": "ok",
     "timestamp": 1602228647778,
     "user": {
      "displayName": "Yaling Qing",
      "photoUrl": "https://lh3.googleusercontent.com/a-/AOh14GhM2IHXKbhNOCUoSDT0zKOKQnf9n3yEB3QiZ8qP=s64",
      "userId": "18024128701160053308"
     },
     "user_tz": -480
    },
    "id": "Z4Q9V6rkvepj",
    "outputId": "16d3dd22-4585-419b-9181-4e0db02e0abf"
   },
   "outputs": [],
   "source": [
    "# loss visualize\n",
    "import matplotlib.pyplot as plt\n",
    "\n",
    "figure = plt.figure(figsize = (10,3))\n",
    "plt.plot(history.history[\"val_loss\"], color = \"red\")\n",
    "plt.plot(history.history[\"loss\"])"
   ]
  },
  {
   "cell_type": "code",
   "execution_count": null,
   "metadata": {
    "id": "nQAsUGhQuo8f"
   },
   "outputs": [],
   "source": []
  }
 ],
 "metadata": {
  "colab": {
   "name": "Logfbank_model-Copy3.ipynb",
   "provenance": []
  },
  "kernelspec": {
   "display_name": "Python 3",
   "language": "python",
   "name": "python3"
  },
  "language_info": {
   "codemirror_mode": {
    "name": "ipython",
    "version": 3
   },
   "file_extension": ".py",
   "mimetype": "text/x-python",
   "name": "python",
   "nbconvert_exporter": "python",
   "pygments_lexer": "ipython3",
   "version": "3.7.4"
  }
 },
 "nbformat": 4,
 "nbformat_minor": 1
}
