{
 "cells": [
  {
   "cell_type": "code",
   "execution_count": null,
   "metadata": {
    "colab": {
     "base_uri": "https://localhost:8080/",
     "height": 101
    },
    "executionInfo": {
     "elapsed": 30852,
     "status": "ok",
     "timestamp": 1602175583689,
     "user": {
      "displayName": "Yaling Qing",
      "photoUrl": "https://lh3.googleusercontent.com/a-/AOh14GhM2IHXKbhNOCUoSDT0zKOKQnf9n3yEB3QiZ8qP=s64",
      "userId": "18024128701160053308"
     },
     "user_tz": -480
    },
    "id": "SPcbbeRWSzfu",
    "outputId": "f01196b3-b9fe-437c-8150-8ee489460568"
   },
   "outputs": [],
   "source": [
    "!pip install jiwer\n",
    "!pip install python_speech_features"
   ]
  },
  {
   "cell_type": "code",
   "execution_count": null,
   "metadata": {
    "executionInfo": {
     "elapsed": 34310,
     "status": "ok",
     "timestamp": 1602175591485,
     "user": {
      "displayName": "Yaling Qing",
      "photoUrl": "https://lh3.googleusercontent.com/a-/AOh14GhM2IHXKbhNOCUoSDT0zKOKQnf9n3yEB3QiZ8qP=s64",
      "userId": "18024128701160053308"
     },
     "user_tz": -480
    },
    "id": "FoNsZ95uTquG"
   },
   "outputs": [],
   "source": [
    "import string\n",
    "import jiwer\n",
    "from mfcc_model import brnn_ctc_mfcc\n",
    "import numpy as np\n",
    "import tensorflow as tf\n",
    "from tensorflow import keras\n",
    "from keras.models import Model\n",
    "import tensorflow.keras.backend as K\n",
    "from tensorflow.keras.callbacks import ModelCheckpoint,EarlyStopping\n",
    "from mfcc_generator import DataGenerator, pad_wav, pad_text, get_wavs_path, get_text_path, dictionary"
   ]
  },
  {
   "cell_type": "code",
   "execution_count": null,
   "metadata": {
    "executionInfo": {
     "elapsed": 29721,
     "status": "ok",
     "timestamp": 1602175591874,
     "user": {
      "displayName": "Yaling Qing",
      "photoUrl": "https://lh3.googleusercontent.com/a-/AOh14GhM2IHXKbhNOCUoSDT0zKOKQnf9n3yEB3QiZ8qP=s64",
      "userId": "18024128701160053308"
     },
     "user_tz": -480
    },
    "id": "8myNfpalXLUA"
   },
   "outputs": [],
   "source": [
    "from tensorflow.python.client import device_lib\n",
    "import os\n",
    "tf.test.gpu_device_name()\n",
    "#print(device_lib.list_local_devices())\n",
    "os.environ[\"CUDA_VISIBLE_DEVICES\"] = \"0\"\n",
    "config = tf.compat.v1.ConfigProto() \n",
    "config.gpu_options.allow_growth=True"
   ]
  },
  {
   "cell_type": "code",
   "execution_count": null,
   "metadata": {
    "executionInfo": {
     "elapsed": 823,
     "status": "ok",
     "timestamp": 1602175592704,
     "user": {
      "displayName": "Yaling Qing",
      "photoUrl": "https://lh3.googleusercontent.com/a-/AOh14GhM2IHXKbhNOCUoSDT0zKOKQnf9n3yEB3QiZ8qP=s64",
      "userId": "18024128701160053308"
     },
     "user_tz": -480
    },
    "id": "QI3ZNPxFE6Qq"
   },
   "outputs": [],
   "source": [
    "# variable define\n",
    "\n",
    "train_path = \"/ASR/data/TRAIN\"\n",
    "test_path = \"/ASR/data/TEST\"\n",
    "\n",
    "weight_save_path = \"/content/drive/My Drive/2020 Fall/NLP/MFCC/mfcc_SGD_weights9.h5\"\n",
    "\n",
    "nfilt = 40\n",
    "nfeature = 120\n",
    "nclass = 27\n",
    "epoch = 100\n",
    "nbatch = 32\n",
    "lr_rate = 10**(-4)\n",
    "momentum = 0.9"
   ]
  },
  {
   "cell_type": "code",
   "execution_count": null,
   "metadata": {
    "executionInfo": {
     "elapsed": 71889,
     "status": "ok",
     "timestamp": 1602175663777,
     "user": {
      "displayName": "Yaling Qing",
      "photoUrl": "https://lh3.googleusercontent.com/a-/AOh14GhM2IHXKbhNOCUoSDT0zKOKQnf9n3yEB3QiZ8qP=s64",
      "userId": "18024128701160053308"
     },
     "user_tz": -480
    },
    "id": "8-yzeKuRMlBJ"
   },
   "outputs": [],
   "source": [
    "# get train\n",
    "wavs_path = get_wavs_path(train_path)\n",
    "txts_path = get_text_path(wavs_path)\n",
    "\n",
    "audios, input_length = pad_wav(wavs_path, nfilt)\n",
    "texts, label_length = pad_text(txts_path)"
   ]
  },
  {
   "cell_type": "code",
   "execution_count": null,
   "metadata": {
    "executionInfo": {
     "elapsed": 97085,
     "status": "ok",
     "timestamp": 1602175688986,
     "user": {
      "displayName": "Yaling Qing",
      "photoUrl": "https://lh3.googleusercontent.com/a-/AOh14GhM2IHXKbhNOCUoSDT0zKOKQnf9n3yEB3QiZ8qP=s64",
      "userId": "18024128701160053308"
     },
     "user_tz": -480
    },
    "id": "Ssr1eDkbE6Qu"
   },
   "outputs": [],
   "source": [
    "# get val\n",
    "wavs_path_val = get_wavs_path(test_path)\n",
    "txts_path_val = get_text_path(wavs_path_val)\n",
    "\n",
    "audios_val, input_length_val = pad_wav(wavs_path_val, nfilt)\n",
    "texts_val, label_length_val = pad_text(txts_path_val)"
   ]
  },
  {
   "cell_type": "code",
   "execution_count": null,
   "metadata": {
    "executionInfo": {
     "elapsed": 97079,
     "status": "ok",
     "timestamp": 1602175688992,
     "user": {
      "displayName": "Yaling Qing",
      "photoUrl": "https://lh3.googleusercontent.com/a-/AOh14GhM2IHXKbhNOCUoSDT0zKOKQnf9n3yEB3QiZ8qP=s64",
      "userId": "18024128701160053308"
     },
     "user_tz": -480
    },
    "id": "Y7FXiAE4E6Q4"
   },
   "outputs": [],
   "source": [
    "# Generators\n",
    "training_generator = DataGenerator(audios, texts, input_length, label_length, nbatch, nfilt)\n",
    "validation_generator = DataGenerator(audios_val, texts_val, input_length_val, label_length_val, nbatch, nfilt)"
   ]
  },
  {
   "cell_type": "code",
   "execution_count": null,
   "metadata": {
    "executionInfo": {
     "elapsed": 8407,
     "status": "ok",
     "timestamp": 1602175697406,
     "user": {
      "displayName": "Yaling Qing",
      "photoUrl": "https://lh3.googleusercontent.com/a-/AOh14GhM2IHXKbhNOCUoSDT0zKOKQnf9n3yEB3QiZ8qP=s64",
      "userId": "18024128701160053308"
     },
     "user_tz": -480
    },
    "id": "6xlkJB-bE6Q8"
   },
   "outputs": [],
   "source": [
    "# model constructor\n",
    "train_model = brnn_ctc_mfcc(nfeature, nclass, lr_rate, momentum, True, False)\n",
    "train_model.model.load_weights(\"/content/drive/My Drive/2020 Fall/NLP/MFCC/mfcc_SGD_weights7.h5\", by_name = True)\n",
    "\n",
    "callbacks = [\n",
    "    EarlyStopping(monitor=\"val_loss\", patience=7, mode=\"min\", restore_best_weights = True),\n",
    "    ModelCheckpoint(filepath = weight_save_path,\n",
    "                monitor = 'val_loss', mode = 'min', save_best_only=True, save_weights_only=True),\n",
    "]"
   ]
  },
  {
   "cell_type": "code",
   "execution_count": null,
   "metadata": {
    "colab": {
     "base_uri": "https://localhost:8080/",
     "height": 1000
    },
    "executionInfo": {
     "elapsed": 7432355,
     "status": "ok",
     "timestamp": 1602183202629,
     "user": {
      "displayName": "Yaling Qing",
      "photoUrl": "https://lh3.googleusercontent.com/a-/AOh14GhM2IHXKbhNOCUoSDT0zKOKQnf9n3yEB3QiZ8qP=s64",
      "userId": "18024128701160053308"
     },
     "user_tz": -480
    },
    "id": "mskZoQPHE6Q_",
    "outputId": "ad7d29bd-4c15-42df-fc80-cd727f38e2f2"
   },
   "outputs": [],
   "source": [
    "# model train\n",
    "history = train_model.ctc_model.fit_generator(generator=training_generator,\n",
    "                    validation_data=validation_generator,\n",
    "                    use_multiprocessing=True,\n",
    "                    workers = 1,\n",
    "                    epochs = epoch,\n",
    "                    callbacks=callbacks)"
   ]
  },
  {
   "cell_type": "code",
   "execution_count": null,
   "metadata": {
    "colab": {
     "base_uri": "https://localhost:8080/",
     "height": 228
    },
    "executionInfo": {
     "elapsed": 2022,
     "status": "ok",
     "timestamp": 1602184255351,
     "user": {
      "displayName": "Yaling Qing",
      "photoUrl": "https://lh3.googleusercontent.com/a-/AOh14GhM2IHXKbhNOCUoSDT0zKOKQnf9n3yEB3QiZ8qP=s64",
      "userId": "18024128701160053308"
     },
     "user_tz": -480
    },
    "id": "hiTp9xAEE6RJ",
    "outputId": "e4835514-248c-428e-bfc0-a4a139da7a15"
   },
   "outputs": [],
   "source": [
    "# loss visualize\n",
    "import matplotlib.pyplot as plt\n",
    "\n",
    "figure = plt.figure(figsize = (10,3))\n",
    "plt.plot(history.history[\"val_loss\"], color = \"red\")\n",
    "plt.plot(history.history[\"loss\"])"
   ]
  }
 ],
 "metadata": {
  "accelerator": "GPU",
  "colab": {
   "name": "MFCC_model-Copy2.ipynb",
   "provenance": []
  },
  "kernelspec": {
   "display_name": "Python 3",
   "language": "python",
   "name": "python3"
  },
  "language_info": {
   "codemirror_mode": {
    "name": "ipython",
    "version": 3
   },
   "file_extension": ".py",
   "mimetype": "text/x-python",
   "name": "python",
   "nbconvert_exporter": "python",
   "pygments_lexer": "ipython3",
   "version": "3.7.4"
  }
 },
 "nbformat": 4,
 "nbformat_minor": 1
}
