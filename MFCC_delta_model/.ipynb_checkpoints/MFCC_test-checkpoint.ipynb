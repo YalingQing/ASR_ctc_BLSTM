{
 "cells": [
  {
   "cell_type": "code",
   "execution_count": null,
   "metadata": {},
   "outputs": [],
   "source": [
    "import string\n",
    "import jiwer\n",
    "from mfcc_model import brnn_ctc_mfcc\n",
    "import numpy as np\n",
    "import tensorflow as tf\n",
    "from tensorflow import keras\n",
    "from keras.models import Model\n",
    "import tensorflow.keras.backend as K\n",
    "from mfcc_generator import DataGenerator, pad_wav, pad_text, get_wavs_path, get_text_path, dictionary"
   ]
  },
  {
   "cell_type": "code",
   "execution_count": null,
   "metadata": {},
   "outputs": [],
   "source": [
    "tf.test.gpu_device_name()\n",
    "from tensorflow.python.client import device_lib\n",
    "import os\n",
    "#print(device_lib.list_local_devices())\n",
    "os.environ[\"CUDA_VISIBLE_DEVICES\"] = \"0\"\n",
    "config = tf.compat.v1.ConfigProto() \n",
    "config.gpu_options.allow_growth=True"
   ]
  },
  {
   "cell_type": "code",
   "execution_count": null,
   "metadata": {},
   "outputs": [],
   "source": [
    "# get test\n",
    "def get_test_data(test_path):\n",
    "    wavs_path_val = get_wavs_path(test_path)\n",
    "    txts_path_val = get_text_path(wavs_path_val)\n",
    "\n",
    "    audios_val, input_length_val = pad_wav(wavs_path_val, nfilt)\n",
    "    texts_val, label_length_val = pad_text(txts_path_val)\n",
    "\n",
    "    return audios_val, input_length_val, texts_val, label_length_val"
   ]
  },
  {
   "cell_type": "code",
   "execution_count": null,
   "metadata": {},
   "outputs": [],
   "source": [
    "# model constructor and predict\n",
    "\n",
    "def predict(weight_save_path, audios_val, input_length_val, nfeature, nclass, lr_rate, momentum):\n",
    "    # model constructor\n",
    "    test_model = brnn_ctc_mfcc(nfeature, nclass, lr_rate, momentum, False, False)\n",
    "    test_model.model.load_weights(weight_save_path, by_name = True)\n",
    "    \n",
    "    #test_model.model.summary()\n",
    "    \n",
    "    # predict\n",
    "    y_pred = test_model.model.predict(audios_val)\n",
    "    \n",
    "    # ctc decode\n",
    "    input_length_val = [length[0] for length in input_length_val]\n",
    "    y_pred = K.get_value(K.ctc_decode(y_pred, input_length=input_length_val,\n",
    "                         greedy=True)[0][0])\n",
    "    return y_pred"
   ]
  },
  {
   "cell_type": "code",
   "execution_count": null,
   "metadata": {},
   "outputs": [],
   "source": [
    "# convert back to character\n",
    "def decode(nums):\n",
    "    _,dic = dictionary()\n",
    "    result = \"\"\n",
    "    for i, klass in enumerate(nums):\n",
    "        result += dic[klass]\n",
    "    return result\n",
    "\n",
    "\n",
    "# calculate word error rate of model prediction\n",
    "def evaluate(y_pred, texts_val):\n",
    "    WER, count = 0, 0\n",
    "    for pred, true in zip(y_pred, texts_val):\n",
    "        index = np.where(pred == -1)[0][0]\n",
    "        pred = np.array(pred[:index])\n",
    "        pred = decode(pred)\n",
    "\n",
    "        index = np.where(true == -1)[0]\n",
    "        if len(index) != 0:\n",
    "            index = index[0]\n",
    "            true = np.array(true[:index])\n",
    "        true = decode(true)\n",
    "        WER += jiwer.wer(true, pred)\n",
    "        count += 1\n",
    "    print(WER, count, WER/count)"
   ]
  },
  {
   "cell_type": "code",
   "execution_count": null,
   "metadata": {},
   "outputs": [],
   "source": [
    "# variable define\n",
    "\n",
    "test_path = \"/TIMIT/data/TEST\"\n",
    "\n",
    "weight_save_path = \"mfcc_Adam_weights.h5\"\n",
    "\n",
    "nfeature = 120\n",
    "nclass = 27\n",
    "lr_rate = 10**(-4)\n",
    "momentum = 0.9"
   ]
  },
  {
   "cell_type": "code",
   "execution_count": null,
   "metadata": {},
   "outputs": [],
   "source": [
    "def __main__():\n",
    "    audios_val, input_length_val, texts_val, label_length_val = get_test_data(test_path)\n",
    "    y_pred = predict(weight_save_path, audios_val, input_length_val, nfeature, nclass, lr_rate, momentum)\n",
    "    evaluate(y_pred, texts_val)\n",
    "    \n",
    "__main__()"
   ]
  }
 ],
 "metadata": {
  "kernelspec": {
   "display_name": "Python 3",
   "language": "python",
   "name": "python3"
  },
  "language_info": {
   "codemirror_mode": {
    "name": "ipython",
    "version": 3
   },
   "file_extension": ".py",
   "mimetype": "text/x-python",
   "name": "python",
   "nbconvert_exporter": "python",
   "pygments_lexer": "ipython3",
   "version": "3.7.4"
  }
 },
 "nbformat": 4,
 "nbformat_minor": 2
}
